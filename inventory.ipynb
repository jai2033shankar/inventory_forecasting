{
 "cells": [
  {
   "cell_type": "code",
   "execution_count": 7,
   "metadata": {},
   "outputs": [
    {
     "name": "stdout",
     "output_type": "stream",
     "text": [
      "scipy: 1.6.0\n",
      "numpy: 1.17.4\n",
      "matplotlib: 3.3.4\n",
      "pandas: 1.1.2\n",
      "statsmodels: 0.13.2\n",
      "sklearn: 0.24.1\n"
     ]
    }
   ],
   "source": [
    "import scipy\n",
    "print('scipy: %s' % scipy.__version__)\n",
    "# numpy\n",
    "import numpy\n",
    "print('numpy: %s' % numpy.__version__)\n",
    "# matplotlib\n",
    "import matplotlib\n",
    "print('matplotlib: %s' % matplotlib.__version__)\n",
    "# pandas\n",
    "import pandas\n",
    "print('pandas: %s' % pandas.__version__)\n",
    "# statsmodels\n",
    "import statsmodels\n",
    "print('statsmodels: %s' % statsmodels.__version__)\n",
    "# scikit-learn\n",
    "import sklearn\n",
    "print('sklearn: %s' % sklearn.__version__)\n"
   ]
  },
  {
   "cell_type": "code",
   "execution_count": 13,
   "metadata": {},
   "outputs": [
    {
     "name": "stdout",
     "output_type": "stream",
     "text": [
      "Dataset 93, Validation 12\n"
     ]
    }
   ],
   "source": [
    "from pandas import read_csv\n",
    "series = read_csv('/home/kirti/Desktop/inventory/dataset/inv.csv', header=0, index_col=0, parse_dates=True, squeeze=True)\n",
    "split_point = len(series) - 12\n",
    "dataset, validation = series[0:split_point], series[split_point:]\n",
    "print('Dataset %d, Validation %d' % (len(dataset), len(validation)))\n",
    "dataset.to_csv('dataset.csv', header=False)\n",
    "validation.to_csv('validation.csv', header=False)"
   ]
  },
  {
   "cell_type": "code",
   "execution_count": 14,
   "metadata": {},
   "outputs": [],
   "source": [
    "\n",
    "# prepare data\n",
    "X = series.values\n",
    "X = X.astype('float32')\n",
    "train_size = int(len(X) * 0.50)\n",
    "train, test = X[0:train_size], X[train_size:]"
   ]
  },
  {
   "cell_type": "code",
   "execution_count": 16,
   "metadata": {},
   "outputs": [
    {
     "name": "stdout",
     "output_type": "stream",
     "text": [
      ">Predicted=5428.000, Expected=8314\n",
      ">Predicted=8314.000, Expected=10651\n",
      ">Predicted=10651.000, Expected=3633\n",
      ">Predicted=3633.000, Expected=4292\n",
      ">Predicted=4292.000, Expected=4154\n",
      ">Predicted=4154.000, Expected=4121\n",
      ">Predicted=4121.000, Expected=4647\n",
      ">Predicted=4647.000, Expected=4753\n",
      ">Predicted=4753.000, Expected=3965\n",
      ">Predicted=3965.000, Expected=1723\n",
      ">Predicted=1723.000, Expected=5048\n",
      ">Predicted=5048.000, Expected=6922\n",
      ">Predicted=6922.000, Expected=9858\n",
      ">Predicted=9858.000, Expected=11331\n",
      ">Predicted=11331.000, Expected=4016\n",
      ">Predicted=4016.000, Expected=3957\n",
      ">Predicted=3957.000, Expected=4510\n",
      ">Predicted=4510.000, Expected=4276\n",
      ">Predicted=4276.000, Expected=4968\n",
      ">Predicted=4968.000, Expected=4677\n",
      ">Predicted=4677.000, Expected=3523\n",
      ">Predicted=3523.000, Expected=1821\n",
      ">Predicted=1821.000, Expected=5222\n",
      ">Predicted=5222.000, Expected=6872\n",
      ">Predicted=6872.000, Expected=10803\n",
      ">Predicted=10803.000, Expected=13916\n",
      ">Predicted=13916.000, Expected=2639\n",
      ">Predicted=2639.000, Expected=2899\n",
      ">Predicted=2899.000, Expected=3370\n",
      ">Predicted=3370.000, Expected=3740\n",
      ">Predicted=3740.000, Expected=2927\n",
      ">Predicted=2927.000, Expected=3986\n",
      ">Predicted=3986.000, Expected=4217\n",
      ">Predicted=4217.000, Expected=1738\n",
      ">Predicted=1738.000, Expected=5221\n",
      ">Predicted=5221.000, Expected=6424\n",
      ">Predicted=6424.000, Expected=9842\n",
      ">Predicted=9842.000, Expected=13076\n",
      ">Predicted=13076.000, Expected=3934\n",
      ">Predicted=3934.000, Expected=3162\n",
      ">Predicted=3162.000, Expected=4286\n",
      ">Predicted=4286.000, Expected=4676\n",
      ">Predicted=4676.000, Expected=5010\n",
      ">Predicted=5010.000, Expected=4874\n",
      ">Predicted=4874.000, Expected=4633\n",
      ">Predicted=4633.000, Expected=1659\n",
      ">Predicted=1659.000, Expected=5951\n",
      "RMSE: 3186.501\n"
     ]
    }
   ],
   "source": [
    "\n",
    "from pandas import read_csv\n",
    "from sklearn.metrics import mean_squared_error\n",
    "from math import sqrt\n",
    "# load data\n",
    "series = read_csv('dataset.csv', header=None, index_col=0, parse_dates=True, squeeze=True)\n",
    "# prepare data\n",
    "X = series.values\n",
    "X = X.astype('float32')\n",
    "train_size = int(len(X) * 0.50)\n",
    "train, test = X[0:train_size], X[train_size:]\n",
    "# walk-forward validation\n",
    "history = [x for x in train]\n",
    "predictions = list()\n",
    "for i in range(len(test)):\n",
    "\t# predict\n",
    "\tyhat = history[-1]\n",
    "\tpredictions.append(yhat)\n",
    "\t# observation\n",
    "\tobs = test[i]\n",
    "\thistory.append(obs)\n",
    "\tprint('>Predicted=%.3f, Expected=%3.f' % (yhat, obs))\n",
    "# report performance\n",
    "mse = mean_squared_error(test, predictions)\n",
    "rmse = sqrt(mse)\n",
    "print('RMSE: %.3f' % rmse)"
   ]
  },
  {
   "cell_type": "code",
   "execution_count": 17,
   "metadata": {},
   "outputs": [
    {
     "name": "stdout",
     "output_type": "stream",
     "text": [
      "count       93.000000\n",
      "mean      4641.118280\n",
      "std       2486.403841\n",
      "min       1573.000000\n",
      "25%       3036.000000\n",
      "50%       4016.000000\n",
      "75%       5048.000000\n",
      "max      13916.000000\n",
      "Name: 1, dtype: float64\n"
     ]
    }
   ],
   "source": [
    "\n",
    "from pandas import read_csv\n",
    "series = read_csv('dataset.csv', header=None, index_col=0, parse_dates=True, squeeze=True)\n",
    "print(series.describe())"
   ]
  },
  {
   "cell_type": "code",
   "execution_count": 18,
   "metadata": {},
   "outputs": [
    {
     "data": {
      "image/png": "[encoded data removed]",
      "text/plain": [
       "<Figure size 432x288 with 1 Axes>"
      ]
     },
     "metadata": {
      "needs_background": "light"
     },
     "output_type": "display_data"
    }
   ],
   "source": [
    "\n",
    "from pandas import read_csv\n",
    "from matplotlib import pyplot\n",
    "series = read_csv('dataset.csv', header=None, index_col=0, parse_dates=True, squeeze=True)\n",
    "series.plot()\n",
    "pyplot.show()"
   ]
  },
  {
   "cell_type": "code",
   "execution_count": 19,
   "metadata": {},
   "outputs": [
    {
     "data": {
      "image/png": "[encoded data removed]",
      "text/plain": [
       "<Figure size 432x288 with 7 Axes>"
      ]
     },
     "metadata": {
      "needs_background": "light"
     },
     "output_type": "display_data"
    }
   ],
   "source": [
    "\n",
    "from pandas import read_csv\n",
    "from pandas import DataFrame\n",
    "from pandas import Grouper\n",
    "from matplotlib import pyplot\n",
    "series = read_csv('dataset.csv', header=None, index_col=0, parse_dates=True, squeeze=True)\n",
    "groups = series['1964':'1970'].groupby(Grouper(freq='A'))\n",
    "years = DataFrame()\n",
    "pyplot.figure()\n",
    "i = 1\n",
    "n_groups = len(groups)\n",
    "for name, group in groups:\n",
    "\tpyplot.subplot((n_groups*100) + 10 + i)\n",
    "\ti += 1\n",
    "\tpyplot.plot(group)\n",
    "pyplot.show()"
   ]
  },
  {
   "cell_type": "code",
   "execution_count": 20,
   "metadata": {},
   "outputs": [
    {
     "data": {
      "image/png": "[encoded data removed]",
      "text/plain": [
       "<Figure size 432x288 with 2 Axes>"
      ]
     },
     "metadata": {
      "needs_background": "light"
     },
     "output_type": "display_data"
    }
   ],
   "source": [
    "\n",
    "from pandas import read_csv\n",
    "from matplotlib import pyplot\n",
    "series = read_csv('dataset.csv', header=None, index_col=0, parse_dates=True, squeeze=True)\n",
    "pyplot.figure(1)\n",
    "pyplot.subplot(211)\n",
    "series.hist()\n",
    "pyplot.subplot(212)\n",
    "series.plot(kind='kde')\n",
    "pyplot.show()"
   ]
  },
  {
   "cell_type": "code",
   "execution_count": 21,
   "metadata": {},
   "outputs": [
    {
     "data": {
      "image/png": "[encoded data removed]",
      "text/plain": [
       "<Figure size 432x288 with 1 Axes>"
      ]
     },
     "metadata": {
      "needs_background": "light"
     },
     "output_type": "display_data"
    }
   ],
   "source": [
    "\n",
    "from pandas import read_csv\n",
    "from pandas import DataFrame\n",
    "from pandas import Grouper\n",
    "from matplotlib import pyplot\n",
    "series = read_csv('dataset.csv', header=None, index_col=0, parse_dates=True, squeeze=True)\n",
    "groups = series['1964':'1970'].groupby(Grouper(freq='A'))\n",
    "years = DataFrame()\n",
    "for name, group in groups:\n",
    "\tyears[name.year] = group.values\n",
    "years.boxplot()\n",
    "pyplot.show()"
   ]
  },
  {
   "cell_type": "code",
   "execution_count": 22,
   "metadata": {},
   "outputs": [
    {
     "name": "stdout",
     "output_type": "stream",
     "text": [
      "ADF Statistic: -7.134898\n",
      "p-value: 0.000000\n",
      "Critical Values:\n",
      "\t1%: -3.515\n",
      "\t5%: -2.898\n",
      "\t10%: -2.586\n"
     ]
    },
    {
     "data": {
      "image/png": "[encoded data removed]",
      "text/plain": [
       "<Figure size 432x288 with 1 Axes>"
      ]
     },
     "metadata": {
      "needs_background": "light"
     },
     "output_type": "display_data"
    }
   ],
   "source": [
    "\n",
    "from pandas import read_csv\n",
    "from pandas import Series\n",
    "from statsmodels.tsa.stattools import adfuller\n",
    "from matplotlib import pyplot\n",
    " \n",
    "# create a differenced series\n",
    "def difference(dataset, interval=1):\n",
    "\tdiff = list()\n",
    "\tfor i in range(interval, len(dataset)):\n",
    "\t\tvalue = dataset[i] - dataset[i - interval]\n",
    "\t\tdiff.append(value)\n",
    "\treturn Series(diff)\n",
    " \n",
    "series = read_csv('dataset.csv', header=None, index_col=0, parse_dates=True, squeeze=True)\n",
    "X = series.values\n",
    "X = X.astype('float32')\n",
    "# difference data\n",
    "months_in_year = 12\n",
    "stationary = difference(X, months_in_year)\n",
    "stationary.index = series.index[months_in_year:]\n",
    "# check if stationary\n",
    "result = adfuller(stationary)\n",
    "print('ADF Statistic: %f' % result[0])\n",
    "print('p-value: %f' % result[1])\n",
    "print('Critical Values:')\n",
    "for key, value in result[4].items():\n",
    "\tprint('\\t%s: %.3f' % (key, value))\n",
    "# save\n",
    "stationary.to_csv('stationary.csv', header=False)\n",
    "# plot\n",
    "stationary.plot()\n",
    "pyplot.show()"
   ]
  },
  {
   "cell_type": "code",
   "execution_count": 23,
   "metadata": {},
   "outputs": [],
   "source": [
    "\n",
    "# invert differenced value\n",
    "def inverse_difference(history, yhat, interval=1):\n",
    "\treturn yhat + history[-interval]"
   ]
  },
  {
   "cell_type": "code",
   "execution_count": 24,
   "metadata": {
    "scrolled": true
   },
   "outputs": [
    {
     "name": "stderr",
     "output_type": "stream",
     "text": [
      "/home/kirti/.local/lib/python3.8/site-packages/statsmodels/graphics/tsaplots.py:348: FutureWarning: The default method 'yw' can produce PACF values outside of the [-1,1] interval. After 0.13, the default will change tounadjusted Yule-Walker ('ywm'). You can use this method now by setting method='ywm'.\n",
      "  warnings.warn(\n"
     ]
    },
    {
     "data": {
      "image/png": "[encoded data removed]",
      "text/plain": [
       "<Figure size 432x288 with 2 Axes>"
      ]
     },
     "metadata": {
      "needs_background": "light"
     },
     "output_type": "display_data"
    }
   ],
   "source": [
    "from pandas import read_csv\n",
    "from statsmodels.graphics.tsaplots import plot_acf\n",
    "from statsmodels.graphics.tsaplots import plot_pacf\n",
    "from matplotlib import pyplot\n",
    "series = read_csv('stationary.csv', header=None, index_col=0, parse_dates=True, squeeze=True)\n",
    "pyplot.figure()\n",
    "pyplot.subplot(211)\n",
    "plot_acf(series, ax=pyplot.gca())\n",
    "pyplot.subplot(212)\n",
    "plot_pacf(series, ax=pyplot.gca())\n",
    "pyplot.show()"
   ]
  },
  {
   "cell_type": "code",
   "execution_count": 25,
   "metadata": {},
   "outputs": [
    {
     "name": "stdout",
     "output_type": "stream",
     "text": [
      ">Predicted=8076.990, Expected=8314.000\n",
      ">Predicted=9747.154, Expected=10651.000\n",
      ">Predicted=5994.359, Expected=3633.000\n",
      ">Predicted=3820.299, Expected=4292.000\n",
      ">Predicted=4041.968, Expected=4154.000\n",
      ">Predicted=4990.405, Expected=4121.000\n",
      ">Predicted=5129.641, Expected=4647.000\n",
      ">Predicted=5031.196, Expected=4753.000\n",
      ">Predicted=4133.285, Expected=3965.000\n",
      ">Predicted=2095.321, Expected=1723.000\n",
      ">Predicted=5216.271, Expected=5048.000\n",
      ">Predicted=5866.317, Expected=6922.000\n",
      ">Predicted=8591.071, Expected=9858.000\n",
      ">Predicted=11028.649, Expected=11331.000\n",
      ">Predicted=4090.352, Expected=4016.000\n",
      ">Predicted=4767.109, Expected=3957.000\n",
      ">Predicted=4656.326, Expected=4510.000\n",
      ">Predicted=4577.708, Expected=4276.000\n",
      ">Predicted=5108.656, Expected=4968.000\n",
      ">Predicted=5202.831, Expected=4677.000\n",
      ">Predicted=4423.982, Expected=3523.000\n",
      ">Predicted=2162.388, Expected=1821.000\n",
      ">Predicted=5463.233, Expected=5222.000\n",
      ">Predicted=7331.345, Expected=6872.000\n",
      ">Predicted=10258.650, Expected=10803.000\n",
      ">Predicted=11732.476, Expected=13916.000\n",
      ">Predicted=4552.498, Expected=2639.000\n",
      ">Predicted=4578.764, Expected=2899.000\n",
      ">Predicted=4914.578, Expected=3370.000\n",
      ">Predicted=4545.624, Expected=3740.000\n",
      ">Predicted=5229.775, Expected=2927.000\n",
      ">Predicted=4287.729, Expected=3986.000\n",
      ">Predicted=3153.080, Expected=4217.000\n",
      ">Predicted=1827.778, Expected=1738.000\n",
      ">Predicted=5134.493, Expected=5221.000\n",
      ">Predicted=6806.278, Expected=6424.000\n",
      ">Predicted=10643.889, Expected=9842.000\n",
      ">Predicted=13606.245, Expected=13076.000\n",
      ">Predicted=2265.432, Expected=3934.000\n",
      ">Predicted=2936.318, Expected=3162.000\n",
      ">Predicted=3341.109, Expected=4286.000\n",
      ">Predicted=3881.790, Expected=4676.000\n",
      ">Predicted=3156.601, Expected=5010.000\n",
      ">Predicted=4693.892, Expected=4874.000\n",
      ">Predicted=4663.923, Expected=4633.000\n",
      ">Predicted=2045.570, Expected=1659.000\n",
      ">Predicted=5440.861, Expected=5951.000\n",
      "RMSE: 961.548\n"
     ]
    }
   ],
   "source": [
    "from pandas import read_csv\n",
    "from sklearn.metrics import mean_squared_error\n",
    "from statsmodels.tsa.arima.model import ARIMA\n",
    "from math import sqrt\n",
    " \n",
    "# create a differenced series\n",
    "def difference(dataset, interval=1):\n",
    "\tdiff = list()\n",
    "\tfor i in range(interval, len(dataset)):\n",
    "\t\tvalue = dataset[i] - dataset[i - interval]\n",
    "\t\tdiff.append(value)\n",
    "\treturn diff\n",
    " \n",
    "# invert differenced value\n",
    "def inverse_difference(history, yhat, interval=1):\n",
    "\treturn yhat + history[-interval]\n",
    " \n",
    "# load data\n",
    "series = read_csv('dataset.csv', header=None, index_col=0, parse_dates=True, squeeze=True)\n",
    "# prepare data\n",
    "X = series.values\n",
    "X = X.astype('float32')\n",
    "train_size = int(len(X) * 0.50)\n",
    "train, test = X[0:train_size], X[train_size:]\n",
    "# walk-forward validation\n",
    "history = [x for x in train]\n",
    "predictions = list()\n",
    "for i in range(len(test)):\n",
    "\t# difference data\n",
    "\tmonths_in_year = 12\n",
    "\tdiff = difference(history, months_in_year)\n",
    "\t# predict\n",
    "\tmodel = ARIMA(diff, order=(1,1,1))\n",
    "\tmodel_fit = model.fit()\n",
    "\tyhat = model_fit.forecast()[0]\n",
    "\tyhat = inverse_difference(history, yhat, months_in_year)\n",
    "\tpredictions.append(yhat)\n",
    "\t# observation\n",
    "\tobs = test[i]\n",
    "\thistory.append(obs)\n",
    "\tprint('>Predicted=%.3f, Expected=%.3f' % (yhat, obs))\n",
    "# report performance\n",
    "rmse = sqrt(mean_squared_error(test, predictions))\n",
    "print('RMSE: %.3f' % rmse)"
   ]
  },
  {
   "cell_type": "code",
   "execution_count": 26,
   "metadata": {},
   "outputs": [
    {
     "name": "stdout",
     "output_type": "stream",
     "text": [
      "ARIMA(0, 0, 0) RMSE=947.677\n",
      "ARIMA(0, 0, 1) RMSE=948.007\n",
      "ARIMA(0, 0, 2) RMSE=973.908\n",
      "ARIMA(0, 0, 3) RMSE=987.018\n",
      "ARIMA(0, 0, 4) RMSE=1009.267\n",
      "ARIMA(0, 0, 5) RMSE=1038.702\n",
      "ARIMA(0, 0, 6) RMSE=1059.997\n",
      "ARIMA(0, 1, 0) RMSE=1145.923\n",
      "ARIMA(0, 1, 1) RMSE=959.117\n",
      "ARIMA(0, 1, 2) RMSE=958.595\n",
      "ARIMA(0, 1, 3) RMSE=976.966\n",
      "ARIMA(0, 1, 4) RMSE=982.295\n",
      "ARIMA(0, 1, 5) RMSE=1011.288\n",
      "ARIMA(0, 1, 6) RMSE=1060.132\n",
      "ARIMA(0, 2, 0) RMSE=1930.801\n",
      "ARIMA(0, 2, 1) RMSE=1157.260\n",
      "ARIMA(0, 2, 2) RMSE=958.339\n",
      "ARIMA(0, 2, 3) RMSE=980.829\n",
      "ARIMA(0, 2, 4) RMSE=980.675\n",
      "ARIMA(0, 2, 5) RMSE=1069.406\n",
      "ARIMA(0, 2, 6) RMSE=1061.989\n",
      "ARIMA(1, 0, 0) RMSE=945.107\n",
      "ARIMA(1, 0, 1) RMSE=979.308\n",
      "ARIMA(1, 0, 2) RMSE=975.276\n",
      "ARIMA(1, 0, 3) RMSE=997.238\n",
      "ARIMA(1, 0, 4) RMSE=1032.385\n",
      "ARIMA(1, 0, 5) RMSE=1073.946\n",
      "ARIMA(1, 0, 6) RMSE=1067.403\n",
      "ARIMA(1, 1, 0) RMSE=1071.385\n",
      "ARIMA(1, 1, 1) RMSE=961.548\n",
      "ARIMA(1, 1, 2) RMSE=962.011\n",
      "ARIMA(1, 1, 3) RMSE=962.342\n",
      "ARIMA(1, 1, 4) RMSE=982.029\n",
      "ARIMA(1, 1, 5) RMSE=1007.451\n",
      "ARIMA(1, 1, 6) RMSE=1047.528\n",
      "ARIMA(1, 2, 0) RMSE=1560.305\n",
      "ARIMA(1, 2, 1) RMSE=1081.848\n",
      "ARIMA(1, 2, 2) RMSE=966.991\n",
      "ARIMA(1, 2, 3) RMSE=997.287\n",
      "ARIMA(1, 2, 4) RMSE=1009.736\n",
      "ARIMA(1, 2, 5) RMSE=996.948\n",
      "ARIMA(1, 2, 6) RMSE=999.597\n",
      "ARIMA(2, 0, 0) RMSE=962.750\n",
      "ARIMA(2, 0, 1) RMSE=988.425\n",
      "ARIMA(2, 0, 2) RMSE=1004.873\n",
      "ARIMA(2, 0, 3) RMSE=1023.478\n",
      "ARIMA(2, 0, 4) RMSE=1018.341\n",
      "ARIMA(2, 0, 5) RMSE=1057.773\n",
      "ARIMA(2, 0, 6) RMSE=1007.202\n",
      "ARIMA(2, 1, 0) RMSE=1031.490\n",
      "ARIMA(2, 1, 1) RMSE=971.915\n",
      "ARIMA(2, 1, 2) RMSE=978.252\n",
      "ARIMA(2, 1, 3) RMSE=1029.150\n",
      "ARIMA(2, 1, 4) RMSE=970.239\n",
      "ARIMA(2, 1, 5) RMSE=1037.303\n",
      "ARIMA(2, 1, 6) RMSE=977.890\n",
      "ARIMA(2, 2, 0) RMSE=1352.151\n",
      "ARIMA(2, 2, 1) RMSE=1041.759\n",
      "ARIMA(2, 2, 2) RMSE=1026.736\n",
      "ARIMA(2, 2, 3) RMSE=993.837\n",
      "ARIMA(2, 2, 4) RMSE=1012.429\n",
      "ARIMA(2, 2, 5) RMSE=1013.994\n",
      "ARIMA(2, 2, 6) RMSE=1050.694\n",
      "ARIMA(3, 0, 0) RMSE=974.493\n",
      "ARIMA(3, 0, 1) RMSE=989.825\n",
      "ARIMA(3, 0, 2) RMSE=1033.383\n",
      "ARIMA(3, 0, 3) RMSE=1014.065\n",
      "ARIMA(3, 0, 4) RMSE=1002.956\n",
      "ARIMA(3, 0, 5) RMSE=1001.183\n",
      "ARIMA(3, 0, 6) RMSE=1043.157\n",
      "ARIMA(3, 1, 0) RMSE=1029.038\n",
      "ARIMA(3, 1, 1) RMSE=977.188\n",
      "ARIMA(3, 1, 2) RMSE=972.499\n",
      "ARIMA(3, 1, 3) RMSE=983.161\n",
      "ARIMA(3, 1, 4) RMSE=1014.782\n",
      "ARIMA(3, 1, 5) RMSE=990.724\n",
      "ARIMA(3, 1, 6) RMSE=997.484\n",
      "ARIMA(3, 2, 0) RMSE=1248.314\n",
      "ARIMA(3, 2, 1) RMSE=1041.336\n",
      "ARIMA(3, 2, 2) RMSE=1043.462\n",
      "ARIMA(3, 2, 3) RMSE=1020.233\n",
      "ARIMA(3, 2, 4) RMSE=1043.028\n",
      "ARIMA(3, 2, 5) RMSE=1022.229\n",
      "ARIMA(3, 2, 6) RMSE=1030.416\n",
      "ARIMA(4, 0, 0) RMSE=996.877\n",
      "ARIMA(4, 0, 1) RMSE=1059.096\n",
      "ARIMA(4, 0, 2) RMSE=1033.557\n",
      "ARIMA(4, 0, 3) RMSE=992.599\n",
      "ARIMA(4, 0, 4) RMSE=995.956\n",
      "ARIMA(4, 0, 5) RMSE=988.686\n",
      "ARIMA(4, 0, 6) RMSE=998.267\n",
      "ARIMA(4, 1, 0) RMSE=1047.517\n",
      "ARIMA(4, 1, 1) RMSE=1010.728\n",
      "ARIMA(4, 1, 3) RMSE=1035.565\n",
      "ARIMA(4, 1, 4) RMSE=981.139\n",
      "ARIMA(4, 1, 5) RMSE=1004.462\n",
      "ARIMA(4, 1, 6) RMSE=999.760\n",
      "ARIMA(4, 2, 0) RMSE=1231.917\n",
      "ARIMA(4, 2, 1) RMSE=1058.985\n",
      "ARIMA(4, 2, 2) RMSE=1027.372\n",
      "ARIMA(4, 2, 3) RMSE=1083.256\n",
      "ARIMA(4, 2, 4) RMSE=1068.779\n",
      "ARIMA(4, 2, 5) RMSE=1030.291\n",
      "ARIMA(4, 2, 6) RMSE=1048.035\n",
      "ARIMA(5, 0, 0) RMSE=1015.178\n",
      "ARIMA(5, 0, 1) RMSE=1057.333\n",
      "ARIMA(5, 0, 2) RMSE=1034.143\n",
      "ARIMA(5, 0, 3) RMSE=1035.012\n",
      "ARIMA(5, 0, 4) RMSE=997.083\n",
      "ARIMA(5, 0, 5) RMSE=942.120\n",
      "ARIMA(5, 0, 6) RMSE=1027.158\n",
      "ARIMA(5, 1, 0) RMSE=1043.531\n",
      "ARIMA(5, 1, 1) RMSE=1020.269\n",
      "ARIMA(5, 1, 2) RMSE=1030.909\n",
      "ARIMA(5, 1, 3) RMSE=1045.144\n",
      "ARIMA(5, 1, 4) RMSE=929.225\n",
      "ARIMA(5, 1, 5) RMSE=987.603\n",
      "ARIMA(5, 1, 6) RMSE=984.062\n",
      "ARIMA(5, 2, 0) RMSE=1243.241\n",
      "ARIMA(5, 2, 1) RMSE=1055.284\n",
      "ARIMA(5, 2, 2) RMSE=1034.999\n",
      "ARIMA(5, 2, 3) RMSE=1049.652\n",
      "ARIMA(5, 2, 4) RMSE=1023.068\n",
      "ARIMA(5, 2, 5) RMSE=1107.784\n",
      "ARIMA(5, 2, 6) RMSE=1037.177\n",
      "ARIMA(6, 0, 0) RMSE=1024.865\n",
      "ARIMA(6, 0, 1) RMSE=1063.884\n",
      "ARIMA(6, 0, 2) RMSE=1075.547\n",
      "ARIMA(6, 0, 4) RMSE=997.523\n",
      "ARIMA(6, 0, 5) RMSE=1006.876\n",
      "ARIMA(6, 1, 0) RMSE=1018.743\n",
      "ARIMA(6, 1, 1) RMSE=1030.277\n",
      "ARIMA(6, 1, 2) RMSE=1022.229\n",
      "ARIMA(6, 1, 3) RMSE=1028.711\n",
      "ARIMA(6, 1, 4) RMSE=1033.682\n",
      "ARIMA(6, 1, 5) RMSE=1014.002\n",
      "ARIMA(6, 1, 6) RMSE=1007.294\n",
      "ARIMA(6, 2, 0) RMSE=1225.748\n",
      "ARIMA(6, 2, 1) RMSE=1033.301\n",
      "ARIMA(6, 2, 2) RMSE=1024.797\n",
      "ARIMA(6, 2, 3) RMSE=1022.561\n",
      "ARIMA(6, 2, 4) RMSE=1055.626\n",
      "ARIMA(6, 2, 5) RMSE=1092.015\n",
      "ARIMA(6, 2, 6) RMSE=1049.586\n",
      "Best ARIMA(5, 1, 4) RMSE=929.225\n"
     ]
    }
   ],
   "source": [
    "\n",
    "# grid search ARIMA parameters for time series\n",
    "import warnings\n",
    "from pandas import read_csv\n",
    "from statsmodels.tsa.arima.model import ARIMA\n",
    "from sklearn.metrics import mean_squared_error\n",
    "from math import sqrt\n",
    "import numpy\n",
    " \n",
    "# create a differenced series\n",
    "def difference(dataset, interval=1):\n",
    "\tdiff = list()\n",
    "\tfor i in range(interval, len(dataset)):\n",
    "\t\tvalue = dataset[i] - dataset[i - interval]\n",
    "\t\tdiff.append(value)\n",
    "\treturn numpy.array(diff)\n",
    " \n",
    "# invert differenced value\n",
    "def inverse_difference(history, yhat, interval=1):\n",
    "\treturn yhat + history[-interval]\n",
    " \n",
    "# evaluate an ARIMA model for a given order (p,d,q) and return RMSE\n",
    "def evaluate_arima_model(X, arima_order):\n",
    "\t# prepare training dataset\n",
    "\tX = X.astype('float32')\n",
    "\ttrain_size = int(len(X) * 0.50)\n",
    "\ttrain, test = X[0:train_size], X[train_size:]\n",
    "\thistory = [x for x in train]\n",
    "\t# make predictions\n",
    "\tpredictions = list()\n",
    "\tfor t in range(len(test)):\n",
    "\t\t# difference data\n",
    "\t\tmonths_in_year = 12\n",
    "\t\tdiff = difference(history, months_in_year)\n",
    "\t\tmodel = ARIMA(diff, order=arima_order)\n",
    "\t\tmodel_fit = model.fit()\n",
    "\t\tyhat = model_fit.forecast()[0]\n",
    "\t\tyhat = inverse_difference(history, yhat, months_in_year)\n",
    "\t\tpredictions.append(yhat)\n",
    "\t\thistory.append(test[t])\n",
    "\t# calculate out of sample error\n",
    "\trmse = sqrt(mean_squared_error(test, predictions))\n",
    "\treturn rmse\n",
    " \n",
    "# evaluate combinations of p, d and q values for an ARIMA model\n",
    "def evaluate_models(dataset, p_values, d_values, q_values):\n",
    "\tdataset = dataset.astype('float32')\n",
    "\tbest_score, best_cfg = float(\"inf\"), None\n",
    "\tfor p in p_values:\n",
    "\t\tfor d in d_values:\n",
    "\t\t\tfor q in q_values:\n",
    "\t\t\t\torder = (p,d,q)\n",
    "\t\t\t\ttry:\n",
    "\t\t\t\t\trmse = evaluate_arima_model(dataset, order)\n",
    "\t\t\t\t\tif rmse < best_score:\n",
    "\t\t\t\t\t\tbest_score, best_cfg = rmse, order\n",
    "\t\t\t\t\tprint('ARIMA%s RMSE=%.3f' % (order,rmse))\n",
    "\t\t\t\texcept:\n",
    "\t\t\t\t\tcontinue\n",
    "\tprint('Best ARIMA%s RMSE=%.3f' % (best_cfg, best_score))\n",
    " \n",
    "# load dataset\n",
    "series = read_csv('dataset.csv', header=None, index_col=0, parse_dates=True, squeeze=True)\n",
    "# evaluate parameters\n",
    "p_values = range(0, 7)\n",
    "d_values = range(0, 3)\n",
    "q_values = range(0, 7)\n",
    "warnings.filterwarnings(\"ignore\")\n",
    "evaluate_models(series.values, p_values, d_values, q_values)"
   ]
  },
  {
   "cell_type": "code",
   "execution_count": 27,
   "metadata": {},
   "outputs": [
    {
     "name": "stdout",
     "output_type": "stream",
     "text": [
      "                 0\n",
      "count    47.000000\n",
      "mean   -204.270093\n",
      "std     935.746184\n",
      "min   -2325.393963\n",
      "25%    -709.042303\n",
      "50%    -228.936046\n",
      "75%     333.614728\n",
      "max    2191.022470\n"
     ]
    },
    {
     "data": {
      "image/png": "[encoded data removed]",
      "text/plain": [
       "<Figure size 432x288 with 2 Axes>"
      ]
     },
     "metadata": {
      "needs_background": "light"
     },
     "output_type": "display_data"
    }
   ],
   "source": [
    "# summarize ARIMA forecast residuals\n",
    "from pandas import read_csv\n",
    "from pandas import DataFrame\n",
    "from statsmodels.tsa.arima.model import ARIMA\n",
    "from matplotlib import pyplot\n",
    " \n",
    "# create a differenced series\n",
    "def difference(dataset, interval=1):\n",
    "\tdiff = list()\n",
    "\tfor i in range(interval, len(dataset)):\n",
    "\t\tvalue = dataset[i] - dataset[i - interval]\n",
    "\t\tdiff.append(value)\n",
    "\treturn diff\n",
    " \n",
    "# invert differenced value\n",
    "def inverse_difference(history, yhat, interval=1):\n",
    "\treturn yhat + history[-interval]\n",
    " \n",
    "# load data\n",
    "series = read_csv('dataset.csv', header=None, index_col=0, parse_dates=True, squeeze=True)\n",
    "# prepare data\n",
    "X = series.values\n",
    "X = X.astype('float32')\n",
    "train_size = int(len(X) * 0.50)\n",
    "train, test = X[0:train_size], X[train_size:]\n",
    "# walk-forward validation\n",
    "history = [x for x in train]\n",
    "predictions = list()\n",
    "for i in range(len(test)):\n",
    "\t# difference data\n",
    "\tmonths_in_year = 12\n",
    "\tdiff = difference(history, months_in_year)\n",
    "\t# predict\n",
    "\tmodel = ARIMA(diff, order=(0,0,1))\n",
    "\tmodel_fit = model.fit()\n",
    "\tyhat = model_fit.forecast()[0]\n",
    "\tyhat = inverse_difference(history, yhat, months_in_year)\n",
    "\tpredictions.append(yhat)\n",
    "\t# observation\n",
    "\tobs = test[i]\n",
    "\thistory.append(obs)\n",
    "# errors\n",
    "residuals = [test[i]-predictions[i] for i in range(len(test))]\n",
    "residuals = DataFrame(residuals)\n",
    "print(residuals.describe())\n",
    "# plot\n",
    "pyplot.figure()\n",
    "pyplot.subplot(211)\n",
    "residuals.hist(ax=pyplot.gca())\n",
    "pyplot.subplot(212)\n",
    "residuals.plot(kind='kde', ax=pyplot.gca())\n",
    "pyplot.show()"
   ]
  },
  {
   "cell_type": "code",
   "execution_count": 28,
   "metadata": {},
   "outputs": [
    {
     "name": "stdout",
     "output_type": "stream",
     "text": [
      "RMSE: 997.006\n",
      "                 0\n",
      "count    47.000000\n",
      "mean   -370.174821\n",
      "std     935.746184\n",
      "min   -2491.298691\n",
      "25%    -874.947031\n",
      "50%    -394.840774\n",
      "75%     167.710000\n",
      "max    2025.117742\n"
     ]
    },
    {
     "data": {
      "image/png": "[encoded data removed]",
      "text/plain": [
       "<Figure size 432x288 with 2 Axes>"
      ]
     },
     "metadata": {
      "needs_background": "light"
     },
     "output_type": "display_data"
    }
   ],
   "source": [
    "\n",
    "# plots of residual errors of bias corrected forecasts\n",
    "from pandas import read_csv\n",
    "from pandas import DataFrame\n",
    "from statsmodels.tsa.arima.model import ARIMA\n",
    "from matplotlib import pyplot\n",
    "from sklearn.metrics import mean_squared_error\n",
    "from math import sqrt\n",
    " \n",
    "# create a differenced series\n",
    "def difference(dataset, interval=1):\n",
    "\tdiff = list()\n",
    "\tfor i in range(interval, len(dataset)):\n",
    "\t\tvalue = dataset[i] - dataset[i - interval]\n",
    "\t\tdiff.append(value)\n",
    "\treturn diff\n",
    " \n",
    "# invert differenced value\n",
    "def inverse_difference(history, yhat, interval=1):\n",
    "\treturn yhat + history[-interval]\n",
    " \n",
    "# load data\n",
    "series = read_csv('dataset.csv', header=None, index_col=0, parse_dates=True, squeeze=True)\n",
    "# prepare data\n",
    "X = series.values\n",
    "X = X.astype('float32')\n",
    "train_size = int(len(X) * 0.50)\n",
    "train, test = X[0:train_size], X[train_size:]\n",
    "# walk-forward validation\n",
    "history = [x for x in train]\n",
    "predictions = list()\n",
    "bias = 165.904728\n",
    "for i in range(len(test)):\n",
    "\t# difference data\n",
    "\tmonths_in_year = 12\n",
    "\tdiff = difference(history, months_in_year)\n",
    "\t# predict\n",
    "\tmodel = ARIMA(diff, order=(0,0,1))\n",
    "\tmodel_fit = model.fit()\n",
    "\tyhat = model_fit.forecast()[0]\n",
    "\tyhat = bias + inverse_difference(history, yhat, months_in_year)\n",
    "\tpredictions.append(yhat)\n",
    "\t# observation\n",
    "\tobs = test[i]\n",
    "\thistory.append(obs)\n",
    "# report performance\n",
    "rmse = sqrt(mean_squared_error(test, predictions))\n",
    "print('RMSE: %.3f' % rmse)\n",
    "# errors\n",
    "residuals = [test[i]-predictions[i] for i in range(len(test))]\n",
    "residuals = DataFrame(residuals)\n",
    "print(residuals.describe())\n",
    "# plot\n",
    "pyplot.figure()\n",
    "pyplot.subplot(211)\n",
    "residuals.hist(ax=pyplot.gca())\n",
    "pyplot.subplot(212)\n",
    "residuals.plot(kind='kde', ax=pyplot.gca())\n",
    "pyplot.show()"
   ]
  },
  {
   "cell_type": "code",
   "execution_count": 29,
   "metadata": {},
   "outputs": [
    {
     "name": "stdout",
     "output_type": "stream",
     "text": [
      "                 0\n",
      "count    47.000000\n",
      "mean   -204.270093\n",
      "std     935.746184\n",
      "min   -2325.393963\n",
      "25%    -709.042303\n",
      "50%    -228.936046\n",
      "75%     333.614728\n",
      "max    2191.022470\n"
     ]
    },
    {
     "data": {
      "image/png": "[encoded data removed]",
      "text/plain": [
       "<Figure size 432x288 with 2 Axes>"
      ]
     },
     "metadata": {
      "needs_background": "light"
     },
     "output_type": "display_data"
    }
   ],
   "source": [
    "\n",
    "# ACF and PACF plots of residual errors of bias corrected forecasts\n",
    "from pandas import read_csv\n",
    "from pandas import DataFrame\n",
    "from statsmodels.tsa.arima.model import ARIMA\n",
    "from matplotlib import pyplot\n",
    "from statsmodels.graphics.tsaplots import plot_acf\n",
    "from statsmodels.graphics.tsaplots import plot_pacf\n",
    " \n",
    "# create a differenced series\n",
    "def difference(dataset, interval=1):\n",
    "\tdiff = list()\n",
    "\tfor i in range(interval, len(dataset)):\n",
    "\t\tvalue = dataset[i] - dataset[i - interval]\n",
    "\t\tdiff.append(value)\n",
    "\treturn diff\n",
    " \n",
    "# invert differenced value\n",
    "def inverse_difference(history, yhat, interval=1):\n",
    "\treturn yhat + history[-interval]\n",
    " \n",
    "# load data\n",
    "series = read_csv('dataset.csv', header=None, index_col=0, parse_dates=True, squeeze=True)\n",
    "# prepare data\n",
    "X = series.values\n",
    "X = X.astype('float32')\n",
    "train_size = int(len(X) * 0.50)\n",
    "train, test = X[0:train_size], X[train_size:]\n",
    "# walk-forward validation\n",
    "history = [x for x in train]\n",
    "predictions = list()\n",
    "for i in range(len(test)):\n",
    "\t# difference data\n",
    "\tmonths_in_year = 12\n",
    "\tdiff = difference(history, months_in_year)\n",
    "\t# predict\n",
    "\tmodel = ARIMA(diff, order=(0,0,1))\n",
    "\tmodel_fit = model.fit()\n",
    "\tyhat = model_fit.forecast()[0]\n",
    "\tyhat = inverse_difference(history, yhat, months_in_year)\n",
    "\tpredictions.append(yhat)\n",
    "\t# observation\n",
    "\tobs = test[i]\n",
    "\thistory.append(obs)\n",
    "# errors\n",
    "residuals = [test[i]-predictions[i] for i in range(len(test))]\n",
    "residuals = DataFrame(residuals)\n",
    "print(residuals.describe())\n",
    "# plot\n",
    "pyplot.figure()\n",
    "pyplot.subplot(211)\n",
    "plot_acf(residuals, ax=pyplot.gca())\n",
    "pyplot.subplot(212)\n",
    "plot_pacf(residuals, ax=pyplot.gca())\n",
    "pyplot.show()"
   ]
  },
  {
   "cell_type": "code",
   "execution_count": 38,
   "metadata": {},
   "outputs": [],
   "source": [
    "\n",
    "# save finalized model\n",
    "from pandas import read_csv\n",
    "from statsmodels.tsa.arima.model import ARIMA\n",
    "import numpy\n",
    "import pickle\n",
    "# create a differenced series\n",
    "def difference(dataset, interval=1):\n",
    "\tdiff = list()\n",
    "\tfor i in range(interval, len(dataset)):\n",
    "\t\tvalue = dataset[i] - dataset[i - interval]\n",
    "\t\tdiff.append(value)\n",
    "\treturn diff\n",
    " \n",
    "# load data\n",
    "series = read_csv('dataset.csv', header=None, index_col=0, parse_dates=True, squeeze=True)\n",
    "# prepare data\n",
    "X = series.values\n",
    "X = X.astype('float32')\n",
    "# difference data\n",
    "months_in_year = 12\n",
    "diff = difference(X, months_in_year)\n",
    "# fit model\n",
    "model = ARIMA(diff, order=(0,0,1))\n",
    "model_fit = model.fit()\n",
    "# bias constant, could be calculated from in-sample mean residual\n",
    "bias = 165.904728\n",
    "# save model\n",
    "model_fit.save('model.pkl')\n",
    "numpy.save('model_bias.npy', [bias])\n",
    " #create an iterator object with write permission - model.pkl\n",
    "with open('model_pkl', 'wb') as files:\n",
    "    pickle.dump(model, files)\n",
    "\n"
   ]
  },
  {
   "cell_type": "code",
   "execution_count": 31,
   "metadata": {},
   "outputs": [
    {
     "name": "stdout",
     "output_type": "stream",
     "text": [
      "Predicted: 7004.078\n"
     ]
    }
   ],
   "source": [
    "\n",
    "# load finalized model and make a prediction\n",
    "from pandas import read_csv\n",
    "from statsmodels.tsa.arima.model import ARIMAResults\n",
    "import numpy\n",
    " \n",
    "# invert differenced value\n",
    "def inverse_difference(history, yhat, interval=1):\n",
    "\treturn yhat + history[-interval]\n",
    " \n",
    "series = read_csv('dataset.csv', header=None, index_col=0, parse_dates=True, squeeze=True)\n",
    "months_in_year = 12\n",
    "model_fit = ARIMAResults.load('model.pkl')\n",
    "bias = numpy.load('model_bias.npy')\n",
    "yhat = float(model_fit.forecast()[0])\n",
    "yhat = bias + inverse_difference(series.values, yhat, months_in_year)\n",
    "print('Predicted: %.3f' % yhat)"
   ]
  },
  {
   "cell_type": "code",
   "execution_count": 34,
   "metadata": {},
   "outputs": [
    {
     "name": "stdout",
     "output_type": "stream",
     "text": [
      ">Predicted=7004.078, Expected=6981.000\n",
      ">Predicted=10356.627, Expected=9851.000\n",
      ">Predicted=13493.317, Expected=12670.000\n",
      ">Predicted=4278.689, Expected=4348.000\n",
      ">Predicted=3684.166, Expected=3564.000\n",
      ">Predicted=4772.002, Expected=4577.000\n",
      ">Predicted=5147.157, Expected=4788.000\n",
      ">Predicted=5446.633, Expected=4618.000\n",
      ">Predicted=5209.065, Expected=5312.000\n",
      ">Predicted=5153.854, Expected=4298.000\n",
      ">Predicted=1988.539, Expected=1413.000\n",
      ">Predicted=6326.844, Expected=5877.000\n",
      "RMSE: 506.921\n"
     ]
    },
    {
     "data": {
      "image/png": "[encoded data removed]",
      "text/plain": [
       "<Figure size 432x288 with 1 Axes>"
      ]
     },
     "metadata": {
      "needs_background": "light"
     },
     "output_type": "display_data"
    }
   ],
   "source": [
    "\n",
    "# load and evaluate the finalized model on the validation dataset\n",
    "from pandas import read_csv\n",
    "from matplotlib import pyplot\n",
    "from statsmodels.tsa.arima.model import ARIMA\n",
    "from statsmodels.tsa.arima.model import ARIMAResults\n",
    "from sklearn.metrics import mean_squared_error\n",
    "from math import sqrt\n",
    "import numpy\n",
    " \n",
    "# create a differenced series\n",
    "def difference(dataset, interval=1):\n",
    "\tdiff = list()\n",
    "\tfor i in range(interval, len(dataset)):\n",
    "\t\tvalue = dataset[i] - dataset[i - interval]\n",
    "\t\tdiff.append(value)\n",
    "\treturn diff\n",
    " \n",
    "# invert differenced value\n",
    "def inverse_difference(history, yhat, interval=1):\n",
    "\treturn yhat + history[-interval]\n",
    " \n",
    "# load and prepare datasets\n",
    "dataset = read_csv('dataset.csv', header=None, index_col=0, parse_dates=True, squeeze=True)\n",
    "X = dataset.values.astype('float32')\n",
    "history = [x for x in X]\n",
    "months_in_year = 12\n",
    "validation = read_csv('validation.csv', header=None, index_col=0, parse_dates=True, squeeze=True)\n",
    "y = validation.values.astype('float32')\n",
    "# load model\n",
    "model_fit = ARIMAResults.load('model.pkl')\n",
    "bias = numpy.load('model_bias.npy')\n",
    "# make first prediction\n",
    "predictions = list()\n",
    "yhat = float(model_fit.forecast()[0])\n",
    "yhat = bias + inverse_difference(history, yhat, months_in_year)\n",
    "predictions.append(yhat)\n",
    "history.append(y[0])\n",
    "print('>Predicted=%.3f, Expected=%.3f' % (yhat, y[0]))\n",
    "# rolling forecasts\n",
    "for i in range(1, len(y)):\n",
    "\t# difference data\n",
    "\tmonths_in_year = 12\n",
    "\tdiff = difference(history, months_in_year)\n",
    "\t# predict\n",
    "\tmodel = ARIMA(diff, order=(0,0,1))\n",
    "\tmodel_fit = model.fit()\n",
    "\tyhat = model_fit.forecast()[0]\n",
    "\tyhat = bias + inverse_difference(history, yhat, months_in_year)\n",
    "\tpredictions.append(yhat)\n",
    "\t# observation\n",
    "\tobs = y[i]\n",
    "\thistory.append(obs)\n",
    "\tprint('>Predicted=%.3f, Expected=%.3f' % (yhat, obs))\n",
    "# report performance\n",
    "rmse = sqrt(mean_squared_error(y, predictions))\n",
    "print('RMSE: %.3f' % rmse)\n",
    "pyplot.plot(y)\n",
    "pyplot.plot(predictions, color='red')\n",
    "pyplot.show()"
   ]
  },
  {
   "cell_type": "code",
   "execution_count": null,
   "metadata": {},
   "outputs": [],
   "source": []
  }
 ],
 "metadata": {
  "kernelspec": {
   "display_name": "Python 3",
   "language": "python",
   "name": "python3"
  },
  "language_info": {
   "codemirror_mode": {
    "name": "ipython",
    "version": 3
   },
   "file_extension": ".py",
   "mimetype": "text/x-python",
   "name": "python",
   "nbconvert_exporter": "python",
   "pygments_lexer": "ipython3",
   "version": "3.8.10"
  }
 },
 "nbformat": 4,
 "nbformat_minor": 4
}
